{
  "cells": [
    {
      "cell_type": "markdown",
      "source": [
        "<center>\n",
        "\n",
        "# Lab Assignment 1\n",
        "\n",
        "</center>\n",
        "\n",
        "- ### Name : Nirjhar Debnath\n",
        "- ### Roll : 10200124021\n",
        "- ### Subject : IT Workshop (PCC-CS 393)\n",
        "- ### Dept. Of Computer Science And Engineering"
      ],
      "metadata": {
        "id": "vbSGU0cD_q30"
      },
      "id": "vbSGU0cD_q30"
    },
    {
      "cell_type": "markdown",
      "source": [
        "# Questions 1"
      ],
      "metadata": {
        "id": "isElAewW-RWF"
      },
      "id": "isElAewW-RWF"
    },
    {
      "cell_type": "markdown",
      "id": "b1fe15f1",
      "metadata": {
        "id": "b1fe15f1"
      },
      "source": [
        "## Area and Perimeter of Rectangle & Circle\n",
        "\n",
        "This code calculates the area and perimeter for both a rectangle and a circle based on user input."
      ]
    },
    {
      "cell_type": "code",
      "execution_count": 1,
      "id": "39e6bf79",
      "metadata": {
        "colab": {
          "base_uri": "https://localhost:8080/"
        },
        "id": "39e6bf79",
        "outputId": "f66e526d-6084-441e-fc4b-75c94f79ff5a"
      },
      "outputs": [
        {
          "output_type": "stream",
          "name": "stdout",
          "text": [
            "--- Rectangle ---\n",
            "Enter the length of the rectangle: 20\n",
            "Enter the width of the rectangle: 10\n",
            "Area of the rectangle: 200.0\n",
            "Perimeter of the rectangle: 60.0\n",
            "\n",
            "--- Circle ---\n",
            "Enter the radius of the circle: 4\n",
            "Area of the circle: 50.27\n",
            "Circumference (Perimeter) of the circle: 25.13\n"
          ]
        }
      ],
      "source": [
        "import math\n",
        "\n",
        "print(\"--- Rectangle ---\")\n",
        "length = float(input(\"Enter the length of the rectangle: \"))\n",
        "width = float(input(\"Enter the width of the rectangle: \"))\n",
        "\n",
        "rect_area = length * width\n",
        "rect_perimeter = 2 * (length + width)\n",
        "\n",
        "print(f\"Area of the rectangle: {rect_area}\")\n",
        "print(f\"Perimeter of the rectangle: {rect_perimeter}\\n\")\n",
        "\n",
        "print(\"--- Circle ---\")\n",
        "radius = float(input(\"Enter the radius of the circle: \"))\n",
        "\n",
        "circle_area = math.pi * radius ** 2\n",
        "circumference = 2 * math.pi * radius\n",
        "\n",
        "print(f\"Area of the circle: {circle_area:.2f}\")\n",
        "print(f\"Circumference (Perimeter) of the circle: {circumference:.2f}\")"
      ]
    },
    {
      "cell_type": "markdown",
      "id": "5db7488a",
      "metadata": {
        "id": "5db7488a"
      },
      "source": [
        "## Swap Two Numbers (Without Third Variable)\n",
        "\n",
        "This demonstrates a Pythonic way to swap two numbers using tuple unpacking."
      ]
    },
    {
      "cell_type": "code",
      "execution_count": 2,
      "id": "c9bb45b6",
      "metadata": {
        "colab": {
          "base_uri": "https://localhost:8080/"
        },
        "id": "c9bb45b6",
        "outputId": "aee196bf-9af4-4c78-ee90-8ee263577867"
      },
      "outputs": [
        {
          "output_type": "stream",
          "name": "stdout",
          "text": [
            "Enter the first number (a): 10\n",
            "Enter the second number (b): 20\n",
            "Before swapping: a = 10, b = 20\n",
            "After swapping: a = 20, b = 10\n"
          ]
        }
      ],
      "source": [
        "a = int(input(\"Enter the first number (a): \"))\n",
        "b = int(input(\"Enter the second number (b): \"))\n",
        "\n",
        "print(f\"Before swapping: a = {a}, b = {b}\")\n",
        "\n",
        "a, b = b, a\n",
        "\n",
        "print(f\"After swapping: a = {a}, b = {b}\")"
      ]
    },
    {
      "cell_type": "markdown",
      "id": "1518b6ad",
      "metadata": {
        "id": "1518b6ad"
      },
      "source": [
        "## Multiplication Table\n",
        "\n",
        "This program generates the multiplication table for a given number up to 10."
      ]
    },
    {
      "cell_type": "code",
      "execution_count": 3,
      "id": "37268e66",
      "metadata": {
        "colab": {
          "base_uri": "https://localhost:8080/"
        },
        "id": "37268e66",
        "outputId": "8f1c4539-bf15-4770-acf2-463157021ed8"
      },
      "outputs": [
        {
          "output_type": "stream",
          "name": "stdout",
          "text": [
            "Enter a number to generate its multiplication table: 10\n",
            "--- Multiplication Table for 10 ---\n",
            "10 x 1 = 10\n",
            "10 x 2 = 20\n",
            "10 x 3 = 30\n",
            "10 x 4 = 40\n",
            "10 x 5 = 50\n",
            "10 x 6 = 60\n",
            "10 x 7 = 70\n",
            "10 x 8 = 80\n",
            "10 x 9 = 90\n",
            "10 x 10 = 100\n"
          ]
        }
      ],
      "source": [
        "num = int(input(\"Enter a number to generate its multiplication table: \"))\n",
        "\n",
        "print(f\"--- Multiplication Table for {num} ---\")\n",
        "for i in range(1, 11):\n",
        "    print(f\"{num} x {i} = {num * i}\")"
      ]
    },
    {
      "cell_type": "markdown",
      "id": "382160cd",
      "metadata": {
        "id": "382160cd"
      },
      "source": [
        "## Generate Prime Numbers from 1 to 500\n",
        "\n",
        "This code finds all prime numbers in the specified range. A number is prime if it's greater than 1 and has no divisors other than 1 and itself."
      ]
    },
    {
      "cell_type": "code",
      "execution_count": 4,
      "id": "d2772c55",
      "metadata": {
        "colab": {
          "base_uri": "https://localhost:8080/"
        },
        "id": "d2772c55",
        "outputId": "c9b781dc-587a-4185-befd-7b4f88ec0cbb"
      },
      "outputs": [
        {
          "output_type": "stream",
          "name": "stdout",
          "text": [
            "Prime numbers between 1 and 500 are:\n",
            "2, 3, 5, 7, 11, 13, 17, 19, 23, 29, 31, 37, 41, 43, 47, 53, 59, 61, 67, 71, 73, 79, 83, 89, 97, 101, 103, 107, 109, 113, 127, 131, 137, 139, 149, 151, 157, 163, 167, 173, 179, 181, 191, 193, 197, 199, 211, 223, 227, 229, 233, 239, 241, 251, 257, 263, 269, 271, 277, 281, 283, 293, 307, 311, 313, 317, 331, 337, 347, 349, 353, 359, 367, 373, 379, 383, 389, 397, 401, 409, 419, 421, 431, 433, 439, 443, 449, 457, 461, 463, 467, 479, 487, 491, 499\n"
          ]
        }
      ],
      "source": [
        "def is_prime(n):\n",
        "    \"\"\"Checks if a number is prime.\"\"\"\n",
        "    if n <= 1:\n",
        "        return False\n",
        "    for i in range(2, int(n**0.5) + 1):\n",
        "        if n % i == 0:\n",
        "            return False\n",
        "    return True\n",
        "\n",
        "print(\"Prime numbers between 1 and 500 are:\")\n",
        "primes = [str(num) for num in range(1, 501) if is_prime(num)]\n",
        "print(\", \".join(primes))"
      ]
    },
    {
      "cell_type": "markdown",
      "id": "614f6774",
      "metadata": {
        "id": "614f6774"
      },
      "source": [
        "## Display Leap Years (1900-2012) 🗓️\n",
        "\n",
        "This code iterates through the years and prints only the leap years based on the standard rules."
      ]
    },
    {
      "cell_type": "code",
      "execution_count": 5,
      "id": "6aa0a4ae",
      "metadata": {
        "colab": {
          "base_uri": "https://localhost:8080/"
        },
        "id": "6aa0a4ae",
        "outputId": "af58666c-93e1-4de2-9e76-f9763da3de98"
      },
      "outputs": [
        {
          "output_type": "stream",
          "name": "stdout",
          "text": [
            "Leap years between 1900 and 2012:\n",
            "1904, 1908, 1912, 1916, 1920, 1924, 1928, 1932, 1936, 1940, 1944, 1948, 1952, 1956, 1960, 1964, 1968, 1972, 1976, 1980, 1984, 1988, 1992, 1996, 2000, 2004, 2008, 2012\n"
          ]
        }
      ],
      "source": [
        "print(\"Leap years between 1900 and 2012:\")\n",
        "leap_years = []\n",
        "for year in range(1900, 2013):\n",
        "    if (year % 4 == 0 and year % 100 != 0) or (year % 400 == 0):\n",
        "        leap_years.append(str(year))\n",
        "\n",
        "print(\", \".join(leap_years))"
      ]
    },
    {
      "cell_type": "markdown",
      "source": [
        "# Questions 2"
      ],
      "metadata": {
        "id": "dGyqvHdF-jeq"
      },
      "id": "dGyqvHdF-jeq"
    },
    {
      "cell_type": "markdown",
      "id": "815268d4",
      "metadata": {
        "id": "815268d4"
      },
      "source": [
        "## Check for Armstrong Number\n",
        "An Armstrong number (of order n) is a number that is equal to the sum of its own digits each raised to the power of the number of digits."
      ]
    },
    {
      "cell_type": "code",
      "execution_count": 6,
      "id": "9ac85712",
      "metadata": {
        "colab": {
          "base_uri": "https://localhost:8080/"
        },
        "id": "9ac85712",
        "outputId": "b1bc7a82-b453-44b8-d26f-2cc75c468aa0"
      },
      "outputs": [
        {
          "output_type": "stream",
          "name": "stdout",
          "text": [
            "Enter a number to check if it's an Armstrong number: 371\n",
            "371 is an Armstrong number.\n"
          ]
        }
      ],
      "source": [
        "num_str = input(\"Enter a number to check if it's an Armstrong number: \")\n",
        "order = len(num_str)\n",
        "num = int(num_str)\n",
        "sum_of_powers = 0\n",
        "temp_num = num\n",
        "\n",
        "while temp_num > 0:\n",
        "    digit = temp_num % 10\n",
        "    sum_of_powers += digit ** order\n",
        "    temp_num //= 10\n",
        "\n",
        "if num == sum_of_powers:\n",
        "    print(f\"{num} is an Armstrong number.\")\n",
        "else:\n",
        "    print(f\"{num} is not an Armstrong number.\")"
      ]
    },
    {
      "cell_type": "markdown",
      "id": "43d433b7",
      "metadata": {
        "id": "43d433b7"
      },
      "source": [
        "## University Gradation System\n",
        "This is an example of a grading system using if-elif-else statements."
      ]
    },
    {
      "cell_type": "code",
      "execution_count": 7,
      "id": "73f6a480",
      "metadata": {
        "colab": {
          "base_uri": "https://localhost:8080/"
        },
        "id": "73f6a480",
        "outputId": "0778fe31-1e55-4d07-c321-f1773808b34d"
      },
      "outputs": [
        {
          "output_type": "stream",
          "name": "stdout",
          "text": [
            "Enter the student's marks (0-100): 98\n",
            "The grade for 98 marks is: O (Outstanding)\n"
          ]
        }
      ],
      "source": [
        "marks = int(input(\"Enter the student's marks (0-100): \"))\n",
        "\n",
        "if marks > 100 or marks < 0:\n",
        "    grade = \"Invalid Marks\"\n",
        "elif marks >= 90:\n",
        "    grade = \"O (Outstanding)\"\n",
        "elif marks >= 80:\n",
        "    grade = \"E (Excellent)\"\n",
        "elif marks >= 70:\n",
        "    grade = \"A (Very Good)\"\n",
        "elif marks >= 60:\n",
        "    grade = \"B (Good)\"\n",
        "elif marks >= 50:\n",
        "    grade = \"C (Average)\"\n",
        "elif marks >= 40:\n",
        "    grade = \"D (Pass)\"\n",
        "else:\n",
        "    grade = \"F (Fail)\"\n",
        "\n",
        "print(f\"The grade for {marks} marks is: {grade}\")"
      ]
    },
    {
      "cell_type": "markdown",
      "id": "c8f28a03",
      "metadata": {
        "id": "c8f28a03"
      },
      "source": [
        "## Vowel, Consonant, or Special Character\n",
        "This code checks if a given input character is a vowel, consonant, or neither (a special character or number)."
      ]
    },
    {
      "cell_type": "code",
      "execution_count": 8,
      "id": "dadfa05b",
      "metadata": {
        "colab": {
          "base_uri": "https://localhost:8080/"
        },
        "id": "dadfa05b",
        "outputId": "d5b9c819-cb03-4dfd-d3a9-72ae5192a485"
      },
      "outputs": [
        {
          "output_type": "stream",
          "name": "stdout",
          "text": [
            "Enter a single character: d\n",
            "'d' is a Consonant.\n"
          ]
        }
      ],
      "source": [
        "char = input(\"Enter a single character: \")\n",
        "\n",
        "char = char[0]\n",
        "\n",
        "if char.isalpha():\n",
        "    if char.lower() in 'aeiou':\n",
        "        print(f\"'{char}' is a Vowel.\")\n",
        "    else:\n",
        "        print(f\"'{char}' is a Consonant.\")\n",
        "else:\n",
        "    print(f\"'{char}' is a special character or a number.\")"
      ]
    },
    {
      "cell_type": "markdown",
      "id": "f69770cb",
      "metadata": {
        "id": "f69770cb"
      },
      "source": [
        "## Roots of a Quadratic Equation\n",
        "This program finds the real or complex roots of a quadratic equation $ax^2+bx+c=0$."
      ]
    },
    {
      "cell_type": "code",
      "execution_count": 9,
      "id": "b5867797",
      "metadata": {
        "colab": {
          "base_uri": "https://localhost:8080/"
        },
        "id": "b5867797",
        "outputId": "c32ebc3d-12d4-4ff3-d98a-0f35bb560d7b"
      },
      "outputs": [
        {
          "output_type": "stream",
          "name": "stdout",
          "text": [
            "For the quadratic equation ax^2 + bx + c = 0\n",
            "Enter coefficient a: 16\n",
            "Enter coefficient b: 4\n",
            "Enter coefficient c: 2\n",
            "The roots of the equation are 16.0x^2 + 4.0x + 2.0 = 0 are :\n",
            "Root 1 = (-0.12-0.33j)\n",
            "Root 2 = (-0.12+0.33j)\n"
          ]
        }
      ],
      "source": [
        "import numpy as np\n",
        "\n",
        "print(\"For the quadratic equation ax^2 + bx + c = 0\")\n",
        "a = float(input(\"Enter coefficient a: \"))\n",
        "b = float(input(\"Enter coefficient b: \"))\n",
        "c = float(input(\"Enter coefficient c: \"))\n",
        "\n",
        "discriminant = (b**2) - (4*a*c)\n",
        "\n",
        "root1 = (-b - np.emath.sqrt(discriminant)) / (2 * a)\n",
        "root2 = (-b + np.emath.sqrt(discriminant)) / (2 * a)\n",
        "\n",
        "print(f\"The roots of the equation are {a}x^2 + {b}x + {c} = 0 are :\")\n",
        "print(f\"Root 1 = {root1:.2}\")\n",
        "print(f\"Root 2 = {root2:.2}\")"
      ]
    },
    {
      "cell_type": "markdown",
      "id": "d749305f",
      "metadata": {
        "id": "d749305f"
      },
      "source": [
        "## Check if Number is Power of 2 or 3\n",
        "\n",
        "This code checks if a number is a power of 2 or a power of 3."
      ]
    },
    {
      "cell_type": "code",
      "execution_count": 10,
      "id": "d2a0182c",
      "metadata": {
        "colab": {
          "base_uri": "https://localhost:8080/"
        },
        "id": "d2a0182c",
        "outputId": "a9478b0f-63f6-4e3e-eb04-d0ca2b6171b8"
      },
      "outputs": [
        {
          "output_type": "stream",
          "name": "stdout",
          "text": [
            "Enter an integer: 32\n",
            "32 is a power of 2.\n"
          ]
        }
      ],
      "source": [
        "def is_power_of(num, base):\n",
        "\n",
        "    if num <= 0:\n",
        "        return False\n",
        "    while num % base == 0:\n",
        "        num /= base\n",
        "    return num == 1\n",
        "\n",
        "n = int(input(\"Enter an integer: \"))\n",
        "\n",
        "if is_power_of(n, 2):\n",
        "    print(f\"{n} is a power of 2.\")\n",
        "elif is_power_of(n, 3):\n",
        "    print(f\"{n} is a power of 3.\")\n",
        "else:\n",
        "    print(f\"{n} is not a power of 2 or 3.\")"
      ]
    },
    {
      "cell_type": "markdown",
      "id": "d1221485",
      "metadata": {
        "id": "d1221485"
      },
      "source": [
        "## Check Triangle Validity\n",
        "\n",
        "A triangle is valid if the sum of any two sides is greater than the third side, and the sum of its three angles is exactly 180 degrees."
      ]
    },
    {
      "cell_type": "code",
      "execution_count": 11,
      "id": "9739cb73",
      "metadata": {
        "colab": {
          "base_uri": "https://localhost:8080/"
        },
        "id": "9739cb73",
        "outputId": "0c52b8bd-b8e4-4fa4-c17f-89fcd126454a"
      },
      "outputs": [
        {
          "output_type": "stream",
          "name": "stdout",
          "text": [
            "--- Checking Triangle Validity by Sides ---\n",
            "Enter length of side 1: 10\n",
            "Enter length of side 2: 8\n",
            "Enter length of side 3: 6\n",
            "A triangle with these side lengths is VALID.\n",
            "\n",
            "--- Checking Triangle Validity by Angles ---\n",
            "Enter angle 1 in degrees: 60\n",
            "Enter angle 2 in degrees: 40\n",
            "Enter angle 3 in degrees: 80\n",
            "A triangle with these angles is VALID.\n"
          ]
        }
      ],
      "source": [
        "print(\"--- Checking Triangle Validity by Sides ---\")\n",
        "s1 = float(input(\"Enter length of side 1: \"))\n",
        "s2 = float(input(\"Enter length of side 2: \"))\n",
        "s3 = float(input(\"Enter length of side 3: \"))\n",
        "\n",
        "if (s1 + s2 > s3) and (s1 + s3 > s2) and (s2 + s3 > s1):\n",
        "    print(\"A triangle with these side lengths is VALID.\\n\")\n",
        "else:\n",
        "    print(\"A triangle with these side lengths is INVALID.\\n\")\n",
        "\n",
        "\n",
        "print(\"--- Checking Triangle Validity by Angles ---\")\n",
        "a1 = float(input(\"Enter angle 1 in degrees: \"))\n",
        "a2 = float(input(\"Enter angle 2 in degrees: \"))\n",
        "a3 = float(input(\"Enter angle 3 in degrees: \"))\n",
        "\n",
        "if a1 + a2 + a3 == 180 and a1 > 0 and a2 > 0 and a3 > 0:\n",
        "     print(\"A triangle with these angles is VALID.\")\n",
        "else:\n",
        "     print(\"A triangle with these angles is INVALID.\")"
      ]
    },
    {
      "cell_type": "markdown",
      "source": [
        "# Question 3"
      ],
      "metadata": {
        "id": "xtTuYKUv-8j4"
      },
      "id": "xtTuYKUv-8j4"
    },
    {
      "cell_type": "markdown",
      "id": "0541bbc9",
      "metadata": {
        "id": "0541bbc9"
      },
      "source": [
        "## Cube of a Number (Using Function)\n",
        "\n",
        "A simple function to calculate the cube of a number."
      ]
    },
    {
      "cell_type": "code",
      "execution_count": 12,
      "id": "55bf5f49",
      "metadata": {
        "colab": {
          "base_uri": "https://localhost:8080/"
        },
        "id": "55bf5f49",
        "outputId": "2e0f3303-8e6e-432f-bcde-2865c0dbdddd"
      },
      "outputs": [
        {
          "output_type": "stream",
          "name": "stdout",
          "text": [
            "Enter a number to find its cube: 4\n",
            "The cube of 4.0 is 64.0\n"
          ]
        }
      ],
      "source": [
        "def find_cube(num):\n",
        "    return num ** 3\n",
        "\n",
        "number = float(input(\"Enter a number to find its cube: \"))\n",
        "result = find_cube(number)\n",
        "print(f\"The cube of {number} is {result}\")"
      ]
    },
    {
      "cell_type": "markdown",
      "id": "01a1347f",
      "metadata": {
        "id": "01a1347f"
      },
      "source": [
        "## Permutation P(n,r) (Recursive)\n",
        "This computes the number of permutations $P(n,r)=fracn(n−r)$ using a recursive factorial function."
      ]
    },
    {
      "cell_type": "code",
      "execution_count": 13,
      "id": "1d950e5f",
      "metadata": {
        "colab": {
          "base_uri": "https://localhost:8080/"
        },
        "id": "1d950e5f",
        "outputId": "cb6a084e-9ba4-4af3-bef5-9d52bf653a24"
      },
      "outputs": [
        {
          "output_type": "stream",
          "name": "stdout",
          "text": [
            "Enter value for n: 10\n",
            "Enter value for r: 4\n",
            "The value of P(10, 4) is 5040\n"
          ]
        }
      ],
      "source": [
        "def factorial(k):\n",
        "\n",
        "    if k == 0 or k == 1:\n",
        "        return 1\n",
        "    else:\n",
        "        return k * factorial(k - 1)\n",
        "\n",
        "def permutation(n, r):\n",
        "\n",
        "    if r > n:\n",
        "        return 0\n",
        "    return factorial(n) // factorial(n - r)\n",
        "\n",
        "n_val = int(input(\"Enter value for n: \"))\n",
        "r_val = int(input(\"Enter value for r: \"))\n",
        "\n",
        "result = permutation(n_val, r_val)\n",
        "print(f\"The value of P({n_val}, {r_val}) is {result}\")"
      ]
    },
    {
      "cell_type": "markdown",
      "id": "84f5804a",
      "metadata": {
        "id": "84f5804a"
      },
      "source": [
        "## Fibonacci Series (Using Function)\n",
        "\n",
        "This function generates the Fibonacci series up to a specified number of terms."
      ]
    },
    {
      "cell_type": "code",
      "execution_count": 14,
      "id": "15cdcb48",
      "metadata": {
        "colab": {
          "base_uri": "https://localhost:8080/"
        },
        "id": "15cdcb48",
        "outputId": "7db6783f-affb-4413-fe26-bde1125d5320"
      },
      "outputs": [
        {
          "output_type": "stream",
          "name": "stdout",
          "text": [
            "Enter the number of Fibonacci terms to generate: 10\n",
            "Fibonacci series: 0, 1, 1, 2, 3, 5, 8, 13, 21, 34\n"
          ]
        }
      ],
      "source": [
        "def generate_fibonacci(n_terms):\n",
        "    if n_terms <= 0:\n",
        "        print(\"Number of terms should be a positive integer.\")\n",
        "        return\n",
        "\n",
        "    a, b = 0, 1\n",
        "    if n_terms == 1:\n",
        "        print(\"Fibonacci series:\", a)\n",
        "        return\n",
        "\n",
        "    series = [a, b]\n",
        "    for _ in range(2, n_terms):\n",
        "        c = a + b\n",
        "        series.append(c)\n",
        "        a, b = b, c\n",
        "\n",
        "    print(\"Fibonacci series:\", \", \".join(map(str, series)))\n",
        "\n",
        "\n",
        "terms = int(input(\"Enter the number of Fibonacci terms to generate: \"))\n",
        "generate_fibonacci(terms)"
      ]
    },
    {
      "cell_type": "markdown",
      "id": "1f6b27a3",
      "metadata": {
        "id": "1f6b27a3"
      },
      "source": [
        "## GCD and LCM (Using Function)\n",
        "\n",
        "Functions to find the Greatest Common Divisor (GCD) using the Euclidean algorithm and the Least Common Multiple (LCM)."
      ]
    },
    {
      "cell_type": "code",
      "execution_count": 15,
      "id": "36af685a",
      "metadata": {
        "colab": {
          "base_uri": "https://localhost:8080/"
        },
        "id": "36af685a",
        "outputId": "c58387b5-027b-4a94-acb0-9cc6d3fa3161"
      },
      "outputs": [
        {
          "output_type": "stream",
          "name": "stdout",
          "text": [
            "Enter the first number: 16\n",
            "Enter the second number: 20\n",
            "The GCD of 16 and 20 is 4\n",
            "The LCM of 16 and 20 is 80\n"
          ]
        }
      ],
      "source": [
        "def find_gcd(x, y):\n",
        "\n",
        "    while y:\n",
        "        x, y = y, x % y\n",
        "    return x\n",
        "\n",
        "def find_lcm(x, y):\n",
        "\n",
        "    if x == 0 or y == 0:\n",
        "        return 0\n",
        "    return abs(x * y) // find_gcd(x, y)\n",
        "\n",
        "num1 = int(input(\"Enter the first number: \"))\n",
        "num2 = int(input(\"Enter the second number: \"))\n",
        "\n",
        "gcd_result = find_gcd(num1, num2)\n",
        "lcm_result = find_lcm(num1, num2)\n",
        "\n",
        "print(f\"The GCD of {num1} and {num2} is {gcd_result}\")\n",
        "print(f\"The LCM of {num1} and {num2} is {lcm_result}\")"
      ]
    },
    {
      "cell_type": "markdown",
      "source": [
        "# Qusetion 4"
      ],
      "metadata": {
        "id": "hEuDuzk6_IOv"
      },
      "id": "hEuDuzk6_IOv"
    },
    {
      "cell_type": "markdown",
      "id": "1675cb27",
      "metadata": {
        "id": "1675cb27"
      },
      "source": [
        "## Generate Patterns\n",
        "\n",
        "Here are the codes to generate the four different patterns using nested loops."
      ]
    },
    {
      "cell_type": "code",
      "execution_count": 16,
      "id": "f57be38f",
      "metadata": {
        "colab": {
          "base_uri": "https://localhost:8080/"
        },
        "id": "f57be38f",
        "outputId": "00cb7d49-5ac6-419e-eed1-d341dbba3433"
      },
      "outputs": [
        {
          "output_type": "stream",
          "name": "stdout",
          "text": [
            "--- Pattern 1 ---\n",
            "1 \n",
            "2 2 \n",
            "3 3 3 \n",
            "4 4 4 4 \n",
            "\n",
            "--- Pattern 2 ---\n",
            "   A \n",
            "  B B \n",
            " C C C \n",
            "D D D D \n",
            "\n",
            "--- Pattern 3 ---\n",
            "4 4 4 4 \n",
            "3 3 3 \n",
            "2 2 \n",
            "1 \n",
            "\n",
            "--- Pattern 4 ---\n",
            "1 \n",
            "1 2 \n",
            "1 2 3 \n",
            "1 2 3 4 \n"
          ]
        }
      ],
      "source": [
        "print(\"--- Pattern 1 ---\")\n",
        "rows = 4\n",
        "for i in range(1, rows + 1):\n",
        "    for j in range(i):\n",
        "        print(i, end=\" \")\n",
        "    print()\n",
        "\n",
        "\n",
        "print(\"\\n--- Pattern 2 ---\")\n",
        "rows = 4\n",
        "for i in range(rows):\n",
        "\n",
        "    for j in range(rows - i - 1):\n",
        "        print(\" \", end=\"\")\n",
        "\n",
        "    for j in range(i + 1):\n",
        "        print(chr(65 + i), end=\" \")\n",
        "    print()\n",
        "\n",
        "\n",
        "print(\"\\n--- Pattern 3 ---\")\n",
        "rows = 4\n",
        "for i in range(rows, 0, -1):\n",
        "    for j in range(i):\n",
        "        print(i, end=\" \")\n",
        "    print()\n",
        "\n",
        "\n",
        "print(\"\\n--- Pattern 4 ---\")\n",
        "rows = 4\n",
        "for i in range(1, rows + 1):\n",
        "    for j in range(1, i + 1):\n",
        "        print(j, end=\" \")\n",
        "    print()"
      ]
    },
    {
      "cell_type": "markdown",
      "id": "89178984",
      "metadata": {
        "id": "89178984"
      },
      "source": [
        "## String Operations\n",
        "\n",
        "This section covers various fundamental string manipulations in Python."
      ]
    },
    {
      "cell_type": "code",
      "execution_count": 17,
      "id": "c535df13",
      "metadata": {
        "colab": {
          "base_uri": "https://localhost:8080/"
        },
        "id": "c535df13",
        "outputId": "8299430b-2e9f-4e66-ef50-6e3a3c90500f"
      },
      "outputs": [
        {
          "output_type": "stream",
          "name": "stdout",
          "text": [
            "--- Concatenation, Reverse, Upper, Lower ---\n",
            "Concatenated: 'hello world'\n",
            "Original: 'Python Programming'\n",
            "Upper Case: 'PYTHON PROGRAMMING'\n",
            "Lower Case: 'python programming'\n",
            "Reversed: 'gnimmargorP nohtyP'\n",
            "\n",
            "--- Splitting and Replacing ---\n",
            "Split into words: ['Python', 'is', 'a', 'powerful', 'programming', 'language']\n",
            "After replacing 'powerful': 'Python is a versatile programming language'\n",
            "\n",
            "--- Count Occurrences of a Character ---\n",
            "The character 'a' appears 5 times in 'abracadabra'\n",
            "\n",
            "--- String Slicing ---\n",
            "Original Text: ComputerScience\n",
            "Slice from index 8 to end [8:]: 'Science'\n",
            "Slice from start to index 8 [:8]: 'Computer'\n",
            "Slice from index 3 to 9 [3:10]: 'puterSc'\n",
            "Slice with a step [::2]: 'CmueSine'\n",
            "Slice with negative index [-5:]: 'ience'\n"
          ]
        }
      ],
      "source": [
        "print(\"--- Concatenation, Reverse, Upper, Lower ---\")\n",
        "s1 = \"hello\"\n",
        "s2 = \"world\"\n",
        "concatenated_string = s1 + \" \" + s2\n",
        "print(f\"Concatenated: '{concatenated_string}'\")\n",
        "\n",
        "original_string = \"Python Programming\"\n",
        "print(f\"Original: '{original_string}'\")\n",
        "print(f\"Upper Case: '{original_string.upper()}'\")\n",
        "print(f\"Lower Case: '{original_string.lower()}'\")\n",
        "print(f\"Reversed: '{original_string[::-1]}'\")\n",
        "\n",
        "\n",
        "print(\"\\n--- Splitting and Replacing ---\")\n",
        "sentence = \"Python is a powerful programming language\"\n",
        "words = sentence.split(' ')\n",
        "print(f\"Split into words: {words}\")\n",
        "\n",
        "new_sentence = sentence.replace(\"powerful\", \"versatile\")\n",
        "print(f\"After replacing 'powerful': '{new_sentence}'\")\n",
        "\n",
        "\n",
        "print(\"\\n--- Count Occurrences of a Character ---\")\n",
        "my_string = \"abracadabra\"\n",
        "char_to_count = \"a\"\n",
        "count = my_string.count(char_to_count)\n",
        "print(f\"The character '{char_to_count}' appears {count} times in '{my_string}'\")\n",
        "\n",
        "\n",
        "print(\"\\n--- String Slicing ---\")\n",
        "text = \"ComputerScience\"\n",
        "\n",
        "print(f\"Original Text: {text}\")\n",
        "print(f\"Slice from index 8 to end [8:]: '{text[8:]}'\")\n",
        "print(f\"Slice from start to index 8 [:8]: '{text[:8]}'\")\n",
        "print(f\"Slice from index 3 to 9 [3:10]: '{text[3:10]}'\")\n",
        "print(f\"Slice with a step [::2]: '{text[::2]}'\")\n",
        "print(f\"Slice with negative index [-5:]: '{text[-5:]}'\")"
      ]
    },
    {
      "cell_type": "code",
      "execution_count": 17,
      "id": "d3eb5ff8",
      "metadata": {
        "id": "d3eb5ff8"
      },
      "outputs": [],
      "source": []
    }
  ],
  "metadata": {
    "kernelspec": {
      "display_name": ".venv",
      "language": "python",
      "name": "python3"
    },
    "language_info": {
      "codemirror_mode": {
        "name": "ipython",
        "version": 3
      },
      "file_extension": ".py",
      "mimetype": "text/x-python",
      "name": "python",
      "nbconvert_exporter": "python",
      "pygments_lexer": "ipython3",
      "version": "3.12.3"
    },
    "colab": {
      "provenance": [],
      "toc_visible": true
    }
  },
  "nbformat": 4,
  "nbformat_minor": 5
}