{
 "cells": [
  {
   "cell_type": "code",
   "execution_count": 6,
   "id": "fc1d8de4",
   "metadata": {},
   "outputs": [
    {
     "name": "stdout",
     "output_type": "stream",
     "text": [
      "CPU time: 0.07249689102172852\n",
      "GPU time: 0.047461748123168945\n",
      "GPU FASTER -> True\n"
     ]
    }
   ],
   "source": [
    "import cupy as cp\n",
    "import numpy as np\n",
    "import time\n",
    "\n",
    "N = 10**8\n",
    "\n",
    "# NumPy (CPU)\n",
    "a_cpu = np.random.rand(N).astype(np.float32)\n",
    "b_cpu = np.random.rand(N).astype(np.float32)\n",
    "\n",
    "start = time.time()\n",
    "c_cpu = a_cpu * b_cpu\n",
    "end = time.time()\n",
    "diff_cpu = end - start\n",
    "print(\"CPU time:\", diff_cpu)\n",
    "\n",
    "# CuPy (GPU)\n",
    "a_gpu = cp.random.rand(N)\n",
    "b_gpu = cp.random.rand(N)\n",
    "\n",
    "start = time.time()\n",
    "c_gpu = a_gpu * b_gpu\n",
    "cp.cuda.Stream.null.synchronize()  # wait for GPU\n",
    "end = time.time()\n",
    "diff_gpu = end - start\n",
    "print(\"GPU time:\", diff_gpu)\n",
    "print(f\"GPU FASTER -> {bool(diff_gpu < diff_cpu)}\")"
   ]
  },
  {
   "cell_type": "code",
   "execution_count": null,
   "id": "329299c4",
   "metadata": {},
   "outputs": [],
   "source": []
  }
 ],
 "metadata": {
  "kernelspec": {
   "display_name": ".venv",
   "language": "python",
   "name": "python3"
  },
  "language_info": {
   "codemirror_mode": {
    "name": "ipython",
    "version": 3
   },
   "file_extension": ".py",
   "mimetype": "text/x-python",
   "name": "python",
   "nbconvert_exporter": "python",
   "pygments_lexer": "ipython3",
   "version": "3.12.3"
  }
 },
 "nbformat": 4,
 "nbformat_minor": 5
}
